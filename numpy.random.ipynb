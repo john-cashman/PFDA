{
 "cells": [
  {
   "cell_type": "markdown",
   "id": "extreme-christmas",
   "metadata": {},
   "source": [
    "\n"
   ]
  },
  {
   "cell_type": "code",
   "execution_count": null,
   "id": "backed-optics",
   "metadata": {},
   "outputs": [],
   "source": []
  },
  {
   "cell_type": "code",
   "execution_count": 1,
   "id": "variable-slovenia",
   "metadata": {},
   "outputs": [],
   "source": [
    "#import numpy\n",
    "import numpy as np\n",
    "\n",
    "#import matplotlib to plot data\n",
    "import matplotlib.pyplot as plt"
   ]
  },
  {
   "cell_type": "markdown",
   "id": "promising-imperial",
   "metadata": {},
   "source": [
    "## Part 1: Explaining the overall purpose of the package."
   ]
  },
  {
   "cell_type": "markdown",
   "id": "blind-behavior",
   "metadata": {},
   "source": [
    "##### What is numpy? \n",
    "NumPy which stands for numerical python is a Python library used for working with arrays. It was created in 2005 by Travis Oliphant as an open source project that is freely used. In python arrays are slow to process. Numpy solves this problem through something called locality. This is where arrays are stored at one continuous place in memory. Because of this numpy is up to 50 times faster than regular python.\n",
    "\n",
    "We import numpy into the workbook as np."
   ]
  },
  {
   "cell_type": "code",
   "execution_count": 2,
   "id": "spanish-procurement",
   "metadata": {},
   "outputs": [],
   "source": [
    "#import numpy\n",
    "import numpy as np\n",
    "\n",
    "#I am also importing matplotlib to plot data later on.\n",
    "import matplotlib.pyplot as plt"
   ]
  },
  {
   "cell_type": "markdown",
   "id": "sunrise-fellow",
   "metadata": {},
   "source": [
    "##### What is the numpy.random package?\n",
    "Numpy's random module is a suite of functions based on pseudorandom number generation. To define something as random it means that it can not be predicted logically. The reason Numpy is described as pseudorandom is because there is an algorithm that generates the random number. This program could be predicted so it can not be defined as truly random.\n",
    "\n",
    "In data science and analytics we use random numbers to test and sample. It is a good way for data analysts to fake or stimulate data. Numpy.random can generate arrays from multiple probabaility distributions as well as randlomly sample from arrays. \n",
    "\n"
   ]
  },
  {
   "cell_type": "code",
   "execution_count": 4,
   "id": "pleasant-corporation",
   "metadata": {},
   "outputs": [],
   "source": [
    "from numpy.random import default_rng\n",
    "rng = default_rng()"
   ]
  },
  {
   "cell_type": "markdown",
   "id": "subject-spanking",
   "metadata": {},
   "source": [
    "## Part 2: Explaining the use of the “Simple random data” and “Permutations” functions."
   ]
  },
  {
   "cell_type": "markdown",
   "id": "numeric-holder",
   "metadata": {},
   "source": [
    "## Part 3: Explaining the use and purpose of at least five “Distributions” functions."
   ]
  },
  {
   "cell_type": "markdown",
   "id": "stupid-orbit",
   "metadata": {},
   "source": [
    "## Part 4: Explaining the use of seeds in generating pseudorandom numbers."
   ]
  },
  {
   "cell_type": "markdown",
   "id": "automotive-asthma",
   "metadata": {},
   "source": [
    "I briefly explained in part 1 that Numpy.random is a pseudorandom number generator. A pseudorandom number is a computer generated number that appears random, but is predetermined. \n",
    "Essentially, computers are deterministic. Meaning that if I give a computer a specific input it will return a specific output everytime. This means computers do not behave in a random way. \n",
    "In order to create a pseudorandom number computers use algorithms called pseudorandom number generators.These numbers appear to be random but arent. The seed serves as the starting input for the random number generator.\n",
    "For example, I will generate a array of 5 numbers \"randomly\" generated between 0 and 100 below. The seed below is 0. As long as the seed remains the same, the output will remain the same.\n"
   ]
  },
  {
   "cell_type": "code",
   "execution_count": 6,
   "id": "inappropriate-stationery",
   "metadata": {},
   "outputs": [
    {
     "data": {
      "text/plain": [
       "array([44, 47, 64, 67, 67])"
      ]
     },
     "execution_count": 6,
     "metadata": {},
     "output_type": "execute_result"
    }
   ],
   "source": [
    "np.random.seed(0)\n",
    "np.random.randint(100, size = 5)"
   ]
  },
  {
   "cell_type": "markdown",
   "id": "enhanced-virginia",
   "metadata": {},
   "source": [
    "If I do this input again the output will be the same."
   ]
  },
  {
   "cell_type": "code",
   "execution_count": 7,
   "id": "reliable-mongolia",
   "metadata": {},
   "outputs": [
    {
     "data": {
      "text/plain": [
       "array([44, 47, 64, 67, 67])"
      ]
     },
     "execution_count": 7,
     "metadata": {},
     "output_type": "execute_result"
    }
   ],
   "source": [
    "np.random.seed(0)\n",
    "np.random.randint(100, size = 5)"
   ]
  },
  {
   "cell_type": "markdown",
   "id": "martial-lindsay",
   "metadata": {},
   "source": [
    "The output array was the same. Therefore we can see that it is not truly random.\n",
    "\n",
    "Numpy seed is used to provide an input to the number generator. It enables the use to provide a seed value to the generator.\n",
    "\n",
    "This seed then works in partnership with other functions within numpy. Most commonly it works with the numpy.random function. As we saw above there are many numpy random functions that we can use with numpy seed. For example, we can use nump.random.normal together with numpy.random.seed to produce normally distributed numbers. Or numpy.random.randint with numpy.random.seed will produce random integers.\n",
    "\n",
    "Below I will input the exact same code as above but with a different seed. This will change the output.\n"
   ]
  },
  {
   "cell_type": "code",
   "execution_count": 8,
   "id": "cathedral-display",
   "metadata": {},
   "outputs": [
    {
     "data": {
      "text/plain": [
       "array([92, 54, 56, 22, 65])"
      ]
     },
     "execution_count": 8,
     "metadata": {},
     "output_type": "execute_result"
    }
   ],
   "source": [
    "np.random.seed(9)\n",
    "np.random.randint(100, size = 5)"
   ]
  },
  {
   "cell_type": "markdown",
   "id": "outdoor-semester",
   "metadata": {},
   "source": [
    "The output was different. With a different seed we get a different result.\n",
    "\n",
    "Numpy.random.seed makes code repeatable. If we don't define a seed when drawing random numbers then the numpy will generate a seed for us. However this would not be reproducable so defining a seed is recomended. We use the seed when we want to make proccesses repeatable. This works well for testing. Seed also facilitates sharing of code. Because it is repeatable it is easy to share. The code will remain repeatable as long as the seed remains the same.\n",
    "\n"
   ]
  },
  {
   "cell_type": "markdown",
   "id": "occasional-angola",
   "metadata": {},
   "source": [
    "##### References:\n",
    "https://www.w3schools.com/python/numpy/numpy_intro.asp\n",
    "https://www.datacamp.com/community/tutorials/numpy-random"
   ]
  }
 ],
 "metadata": {
  "kernelspec": {
   "display_name": "Python 3",
   "language": "python",
   "name": "python3"
  },
  "language_info": {
   "codemirror_mode": {
    "name": "ipython",
    "version": 3
   },
   "file_extension": ".py",
   "mimetype": "text/x-python",
   "name": "python",
   "nbconvert_exporter": "python",
   "pygments_lexer": "ipython3",
   "version": "3.9.2"
  }
 },
 "nbformat": 4,
 "nbformat_minor": 5
}
