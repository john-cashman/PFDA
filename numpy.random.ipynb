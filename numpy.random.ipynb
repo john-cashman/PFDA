{
 "cells": [
  {
   "cell_type": "markdown",
   "id": "valued-bahamas",
   "metadata": {},
   "source": [
    "\n"
   ]
  },
  {
   "cell_type": "code",
   "execution_count": null,
   "id": "encouraging-edwards",
   "metadata": {},
   "outputs": [],
   "source": []
  },
  {
   "cell_type": "code",
   "execution_count": null,
   "id": "excessive-bulgaria",
   "metadata": {},
   "outputs": [],
   "source": [
    "#import numpy\n",
    "import numpy as np\n",
    "\n",
    "#import matplotlib to plot data\n",
    "import matplotlib.pyplot as plt"
   ]
  },
  {
   "cell_type": "markdown",
   "id": "statewide-lodge",
   "metadata": {},
   "source": [
    "## Part 1: Explaining the overall purpose of the package."
   ]
  },
  {
   "cell_type": "markdown",
   "id": "comic-microwave",
   "metadata": {},
   "source": [
    "##### What is numpy? \n",
    "NumPy which stands for numerical python is a Python library used for working with arrays. It was created in 2005 by Travis Oliphant as an open source project that is freely used. In python arrays are slow to process. Numpy solves this problem through something called locality. This is where arrays are stored at one continuous place in memory. Because of this numpy is up to 50 times faster than regular python.\n",
    "\n",
    "We import numpy into the workbook as np."
   ]
  },
  {
   "cell_type": "code",
   "execution_count": null,
   "id": "gentle-criminal",
   "metadata": {},
   "outputs": [],
   "source": [
    "#import numpy\n",
    "import numpy as np\n",
    "\n",
    "#I am also importing matplotlib to plot data later on.\n",
    "import matplotlib.pyplot as plt"
   ]
  },
  {
   "cell_type": "markdown",
   "id": "permanent-superior",
   "metadata": {},
   "source": [
    "##### What is the numpy.random package?\n",
    "Numpy's random module is a suite of functions based on pseudorandom number generation. To define something as random it means that it can not be predicted logically."
   ]
  },
  {
   "cell_type": "markdown",
   "id": "soviet-shaft",
   "metadata": {},
   "source": [
    "## Part 2: Explaining the use of the “Simple random data” and “Permutations” functions."
   ]
  },
  {
   "cell_type": "markdown",
   "id": "clean-integral",
   "metadata": {},
   "source": [
    "## Part 3: Explaining the use and purpose of at least five “Distributions” functions."
   ]
  },
  {
   "cell_type": "markdown",
   "id": "supposed-violation",
   "metadata": {},
   "source": [
    "## Part 4: Explaining the use of seeds in generating pseudorandom numbers."
   ]
  },
  {
   "cell_type": "markdown",
   "id": "mobile-board",
   "metadata": {},
   "source": [
    "##### References:\n",
    "https://www.w3schools.com/python/numpy/numpy_intro.asp\n",
    "https://www.datacamp.com/community/tutorials/numpy-random"
   ]
  }
 ],
 "metadata": {
  "kernelspec": {
   "display_name": "Python 3",
   "language": "python",
   "name": "python3"
  },
  "language_info": {
   "codemirror_mode": {
    "name": "ipython",
    "version": 3
   },
   "file_extension": ".py",
   "mimetype": "text/x-python",
   "name": "python",
   "nbconvert_exporter": "python",
   "pygments_lexer": "ipython3",
   "version": "3.9.2"
  }
 },
 "nbformat": 4,
 "nbformat_minor": 5
}
