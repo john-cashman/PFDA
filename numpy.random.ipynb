{
 "cells": [
  {
   "cell_type": "markdown",
   "id": "specialized-cornwall",
   "metadata": {},
   "source": [
    "\n"
   ]
  },
  {
   "cell_type": "code",
   "execution_count": null,
   "id": "competitive-disposal",
   "metadata": {},
   "outputs": [],
   "source": []
  },
  {
   "cell_type": "code",
   "execution_count": 1,
   "id": "rapid-explosion",
   "metadata": {},
   "outputs": [],
   "source": [
    "#import numpy\n",
    "import numpy as np\n",
    "\n",
    "#import matplotlib to plot data\n",
    "import matplotlib.pyplot as plt"
   ]
  },
  {
   "cell_type": "markdown",
   "id": "genuine-hammer",
   "metadata": {},
   "source": [
    "## Part 1: Explaining the overall purpose of the package."
   ]
  },
  {
   "cell_type": "markdown",
   "id": "sized-sewing",
   "metadata": {},
   "source": [
    "##### What is numpy? \n",
    "NumPy which stands for numerical python is a Python library used for working with arrays. It was created in 2005 by Travis Oliphant as an open source project that is freely used. In python arrays are slow to process. Numpy solves this problem through something called locality. This is where arrays are stored at one continuous place in memory. Because of this numpy is up to 50 times faster than regular python.\n",
    "\n",
    "We import numpy into the workbook as np."
   ]
  },
  {
   "cell_type": "code",
   "execution_count": 2,
   "id": "macro-unemployment",
   "metadata": {},
   "outputs": [],
   "source": [
    "#import numpy\n",
    "import numpy as np\n",
    "\n",
    "#I am also importing matplotlib to plot data later on.\n",
    "import matplotlib.pyplot as plt"
   ]
  },
  {
   "cell_type": "markdown",
   "id": "removable-apartment",
   "metadata": {},
   "source": [
    "##### What is the numpy.random package?\n",
    "Numpy's random module is a suite of functions based on pseudorandom number generation. To define something as random it means that it can not be predicted logically. The reason Numpy is described as pseudorandom is because there is an algorithm that generates the random number. This program could be predicted so it can not be defined as truly random.\n",
    "\n",
    "In data science and analytics we use random numbers to test and sample.\n",
    "\n"
   ]
  },
  {
   "cell_type": "code",
   "execution_count": 4,
   "id": "incoming-wright",
   "metadata": {},
   "outputs": [],
   "source": [
    "from numpy.random import default_rng\n",
    "rng = default_rng()"
   ]
  },
  {
   "cell_type": "markdown",
   "id": "roman-building",
   "metadata": {},
   "source": [
    "## Part 2: Explaining the use of the “Simple random data” and “Permutations” functions."
   ]
  },
  {
   "cell_type": "markdown",
   "id": "deadly-treat",
   "metadata": {},
   "source": [
    "## Part 3: Explaining the use and purpose of at least five “Distributions” functions."
   ]
  },
  {
   "cell_type": "markdown",
   "id": "biological-madrid",
   "metadata": {},
   "source": [
    "## Part 4: Explaining the use of seeds in generating pseudorandom numbers."
   ]
  },
  {
   "cell_type": "markdown",
   "id": "after-interstate",
   "metadata": {},
   "source": [
    "I briefly explained in part 1 that Numpy.random is a pseudorandom number generator. A pseudorandom number is a computer generated number that appears random, but is predetermined. \n",
    "Essentially, computers are deterministic. Meaning that if I give a computer a specific input it will return a specific output everytime. This means computers do not behave in a random way. \n",
    "In order to create a pseudorandom number computers use algorithms called pseudorandom number generators.These numbers appear to be random but arent.\n",
    "For example, I will generate a array of 5 numbers \"randomly\" generated between 0 and 100 below.\n"
   ]
  },
  {
   "cell_type": "code",
   "execution_count": 6,
   "id": "spatial-remains",
   "metadata": {},
   "outputs": [
    {
     "data": {
      "text/plain": [
       "array([44, 47, 64, 67, 67])"
      ]
     },
     "execution_count": 6,
     "metadata": {},
     "output_type": "execute_result"
    }
   ],
   "source": [
    "np.random.seed(0)\n",
    "np.random.randint(100, size = 5)"
   ]
  },
  {
   "cell_type": "markdown",
   "id": "vietnamese-mailman",
   "metadata": {},
   "source": [
    "If I do this input again the output will be the same."
   ]
  },
  {
   "cell_type": "code",
   "execution_count": 7,
   "id": "fixed-square",
   "metadata": {},
   "outputs": [
    {
     "data": {
      "text/plain": [
       "array([44, 47, 64, 67, 67])"
      ]
     },
     "execution_count": 7,
     "metadata": {},
     "output_type": "execute_result"
    }
   ],
   "source": [
    "np.random.seed(0)\n",
    "np.random.randint(100, size = 5)"
   ]
  },
  {
   "cell_type": "markdown",
   "id": "demographic-vocabulary",
   "metadata": {},
   "source": [
    "The output array was the same. Therefore we can see that it is not truly random.\n",
    "\n",
    "Numpy seed is used to provide an input to the number generator. It enables the use to provide a seed value to the generator.\n",
    "\n",
    "This seed then works in partnership with other functions within numpy. Most commonly it works with the numpy.random function. As we saw above there are many numpy random functions that we can use with numpy seed. For example, we can use nump.random.normal together with numpy.random.seed to produce normally distributed numbers. Or numpy.random.randint with numpy.random.seed will produce random integers."
   ]
  },
  {
   "cell_type": "markdown",
   "id": "champion-monroe",
   "metadata": {},
   "source": [
    "##### References:\n",
    "https://www.w3schools.com/python/numpy/numpy_intro.asp\n",
    "https://www.datacamp.com/community/tutorials/numpy-random"
   ]
  }
 ],
 "metadata": {
  "kernelspec": {
   "display_name": "Python 3",
   "language": "python",
   "name": "python3"
  },
  "language_info": {
   "codemirror_mode": {
    "name": "ipython",
    "version": 3
   },
   "file_extension": ".py",
   "mimetype": "text/x-python",
   "name": "python",
   "nbconvert_exporter": "python",
   "pygments_lexer": "ipython3",
   "version": "3.9.2"
  }
 },
 "nbformat": 4,
 "nbformat_minor": 5
}
