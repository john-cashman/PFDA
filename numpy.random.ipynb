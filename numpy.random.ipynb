{
 "cells": [
  {
   "cell_type": "markdown",
   "id": "public-burning",
   "metadata": {},
   "source": [
    "First line. Making sure this works\n"
   ]
  },
  {
   "cell_type": "markdown",
   "id": "public-payment",
   "metadata": {},
   "source": [
    "\n"
   ]
  },
  {
   "cell_type": "code",
   "execution_count": null,
   "id": "committed-destruction",
   "metadata": {},
   "outputs": [],
   "source": [
    "\n",
    "#import numpy\n",
    "import numpy as np\n",
    "\n",
    "#import matplotlib to plot data\n",
    "import matplotlib.pyplot as plt"
   ]
  },
  {
   "cell_type": "markdown",
   "id": "upper-grammar",
   "metadata": {},
   "source": [
    "## Part 1: Explaining the overall purpose of the package."
   ]
  },
  {
   "cell_type": "markdown",
   "id": "incoming-competition",
   "metadata": {},
   "source": [
    "## Part 2: Explaining the use of the “Simple random data” and “Permutations” functions."
   ]
  },
  {
   "cell_type": "markdown",
   "id": "supported-brook",
   "metadata": {},
   "source": [
    "## Part 3: Explaining the use and purpose of at least five “Distributions” functions."
   ]
  },
  {
   "cell_type": "markdown",
   "id": "increased-european",
   "metadata": {},
   "source": [
    "## Part 4: Explaining the use of seeds in generating pseudorandom numbers."
   ]
  }
 ],
 "metadata": {
  "kernelspec": {
   "display_name": "Python 3",
   "language": "python",
   "name": "python3"
  },
  "language_info": {
   "codemirror_mode": {
    "name": "ipython",
    "version": 3
   },
   "file_extension": ".py",
   "mimetype": "text/x-python",
   "name": "python",
   "nbconvert_exporter": "python",
   "pygments_lexer": "ipython3",
   "version": "3.9.2"
  }
 },
 "nbformat": 4,
 "nbformat_minor": 5
}
